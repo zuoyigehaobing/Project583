{
  "nbformat": 4,
  "nbformat_minor": 0,
  "metadata": {
    "colab": {
      "name": "583.ipynb",
      "provenance": []
    },
    "kernelspec": {
      "name": "python3",
      "display_name": "Python 3"
    },
    "language_info": {
      "name": "python"
    }
  },
  "cells": [
    {
      "cell_type": "code",
      "source": [
        "pip install graphviz"
      ],
      "metadata": {
        "colab": {
          "base_uri": "https://localhost:8080/"
        },
        "id": "V-ICkbOkVXeW",
        "outputId": "1b8928f4-c8eb-4979-b632-f351018a3798"
      },
      "execution_count": null,
      "outputs": [
        {
          "output_type": "stream",
          "name": "stdout",
          "text": [
            "Requirement already satisfied: graphviz in /usr/local/lib/python3.7/dist-packages (0.10.1)\n"
          ]
        }
      ]
    },
    {
      "cell_type": "code",
      "execution_count": null,
      "metadata": {
        "id": "ThQ6rTN_O6EL"
      },
      "outputs": [],
      "source": [
        "# Load libraries\n",
        "import pandas as pd\n",
        "from sklearn.tree import DecisionTreeClassifier # Import Decision Tree Classifier\n",
        "from sklearn.model_selection import train_test_split # Import train_test_split function\n",
        "from sklearn import metrics #Import scikit-learn metrics module for accuracy calculation\n",
        "from sklearn import tree\n",
        "from sklearn.model_selection import GridSearchCV\n",
        "import graphviz "
      ]
    },
    {
      "cell_type": "code",
      "source": [
        "col_names = [\n",
        "             'is_pointer_cmp',\n",
        "             'is_pointer_eq',\n",
        "             'is_taken_loop',\n",
        "             'is_fall_through_loop',\n",
        "             'is_ifcmp',\n",
        "             'is_ifcmp_lt_zero',\n",
        "             'is_ifcmp_gt_zero',\n",
        "             'is_ifcmp_eq_zero',\n",
        "             'is_ifcmp_ne_zero',\n",
        "             'is_ifcmp_le_zero',\n",
        "             'is_ifcmp_ge_zero',\n",
        "             'is_ifcmp_lt_negative',\n",
        "             'is_ifcmp_gt_negative',\n",
        "             'is_ifcmp_eq_negative',\n",
        "             'is_ifcmp_ne_negative',\n",
        "             'is_ifcmp_le_negative',\n",
        "             'is_ifcmp_ge_negative',\n",
        "             'is_fcmp_eq',\n",
        "             'is_op1_used_taken',\n",
        "             'is_op1_used_fall_through',\n",
        "             'is_op2_used_taken',\n",
        "             'is_op2_used_fall_through',\n",
        "             'is_taken_backward',\n",
        "             'is_fall_through_backward',\n",
        "             'has_taken_call',\n",
        "             'has_taken_invoke',\n",
        "             'has_taken_store',\n",
        "             'has_taken_ret',\n",
        "             'has_taken_indirectbr',\n",
        "             'has_taken_yield',\n",
        "             'is_taken_pdom',\n",
        "             'has_fall_through_call',\n",
        "             'has_fall_through_invoke',\n",
        "             'has_fall_through_store',\n",
        "             'has_fall_through_ret',\n",
        "             'has_fall_through_indirectbr',\n",
        "             'has_fall_through_yield',\n",
        "             'is_fall_through_pdom',\n",
        "             'label',\n",
        "             ]\n",
        "\n",
        "feature_cols = [\n",
        "             'is_pointer_cmp',\n",
        "             'is_pointer_eq',\n",
        "             'is_taken_loop',\n",
        "             'is_fall_through_loop',\n",
        "             'is_ifcmp',\n",
        "             'is_ifcmp_lt_zero',\n",
        "             'is_ifcmp_gt_zero',\n",
        "             'is_ifcmp_eq_zero',\n",
        "             'is_ifcmp_ne_zero',\n",
        "             'is_ifcmp_le_zero',\n",
        "             'is_ifcmp_ge_zero',\n",
        "             'is_ifcmp_lt_negative',\n",
        "             'is_ifcmp_gt_negative',\n",
        "             'is_ifcmp_eq_negative',\n",
        "             'is_ifcmp_ne_negative',\n",
        "             'is_ifcmp_le_negative',\n",
        "             'is_ifcmp_ge_negative',\n",
        "             'is_fcmp_eq',\n",
        "             'is_op1_used_taken',\n",
        "             'is_op1_used_fall_through',\n",
        "             'is_op2_used_taken',\n",
        "             'is_op2_used_fall_through',\n",
        "             'is_taken_backward',\n",
        "             'is_fall_through_backward',\n",
        "             'has_taken_call',\n",
        "             'has_taken_invoke',\n",
        "             'has_taken_store',\n",
        "             'has_taken_ret',\n",
        "             'has_taken_indirectbr',\n",
        "             'has_taken_yield',\n",
        "             'is_taken_pdom',\n",
        "             'has_fall_through_call',\n",
        "             'has_fall_through_invoke',\n",
        "             'has_fall_through_store',\n",
        "             'has_fall_through_ret',\n",
        "             'has_fall_through_indirectbr',\n",
        "             'has_fall_through_yield',\n",
        "             'is_fall_through_pdom',\n",
        "             ]"
      ],
      "metadata": {
        "id": "EQgEDi_7PEBE"
      },
      "execution_count": null,
      "outputs": []
    },
    {
      "cell_type": "code",
      "source": [
        "# load dataset\n",
        "wc = pd.read_csv(\"wc.c.csv\", header=None, names=col_names)\n",
        "compress = pd.read_csv(\"compress.c.csv\", header=None, names=col_names)\n",
        "course_schedule_2 = pd.read_csv(\"course_schedule_2.cpp.csv\", header=None, names=col_names)\n",
        "dijkstra = pd.read_csv(\"dijkstra.cpp.csv\", header=None, names=col_names)\n",
        "divide_two_integers = pd.read_csv(\"divide_two_integers.cpp.csv\", header=None, names=col_names)\n",
        "longest_substring_without_repeating_char = pd.read_csv(\"longest_substring_without_repeating_char.cpp.csv\", header=None, names=col_names)\n",
        "median_of_two_sorted_arrays = pd.read_csv(\"median_of_two_sorted_arrays.cpp.csv\", header=None, names=col_names)\n",
        "two_sum = pd.read_csv(\"two_sum.cpp.csv\", header=None, names=col_names)\n",
        "unique_path = pd.read_csv(\"unique_path.cpp.csv\", header=None, names=col_names)"
      ],
      "metadata": {
        "id": "2ftXzRRrRGZN"
      },
      "execution_count": null,
      "outputs": []
    },
    {
      "cell_type": "code",
      "source": [
        "frames = [wc, compress, course_schedule_2,dijkstra, longest_substring_without_repeating_char, median_of_two_sorted_arrays, two_sum, unique_path]"
      ],
      "metadata": {
        "id": "yZmkmxGe4eZn"
      },
      "execution_count": null,
      "outputs": []
    },
    {
      "cell_type": "code",
      "source": [
        "for idx in range(len(frames)):\n",
        "  train_frames = frames[:idx] + frames[idx+1:]\n",
        "  train_set = pd.concat(train_frames, ignore_index=True) # Features\n",
        "  X_train = train_set[feature_cols] # Features\n",
        "  y_train = train_set.label # Target variable\n",
        "  X_test = frames[idx][feature_cols]\n",
        "  y_test = frames[idx].label\n",
        "\n",
        "  parameters = {'max_depth':range(3,20)}\n",
        "  clf = GridSearchCV(tree.DecisionTreeClassifier(), parameters, n_jobs=4)\n",
        "  clf.fit(X=X_train, y=y_train)\n",
        "  clf = clf.best_estimator_\n",
        "\n",
        "  #Predict the response for test dataset\n",
        "  y_pred = clf.predict(X_test)\n",
        "\n",
        "  # Model Accuracy, how often is the classifier correct?\n",
        "  print(\"Accuracy:\",metrics.accuracy_score(y_test, y_pred))"
      ],
      "metadata": {
        "colab": {
          "base_uri": "https://localhost:8080/"
        },
        "id": "sTMRTwdDLFnC",
        "outputId": "13a84953-c5bb-4581-a2ad-a7e1bf632d03"
      },
      "execution_count": null,
      "outputs": [
        {
          "output_type": "stream",
          "name": "stdout",
          "text": [
            "Accuracy: 0.5714285714285714\n",
            "Accuracy: 0.5984848484848485\n",
            "Accuracy: 0.7551020408163265\n",
            "Accuracy: 0.8181818181818182\n",
            "Accuracy: 0.7647058823529411\n",
            "Accuracy: 0.6666666666666666\n",
            "Accuracy: 0.78125\n",
            "Accuracy: 1.0\n"
          ]
        }
      ]
    }
  ]
}